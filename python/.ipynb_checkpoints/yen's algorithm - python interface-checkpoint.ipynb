{
 "cells": [
  {
   "cell_type": "code",
   "execution_count": 1,
   "id": "678052f2",
   "metadata": {},
   "outputs": [],
   "source": [
    "TEST = [[0.2,0.1,0.9,0.2,0.1,0.8],\n",
    "        [0.3,0.2,1.0,0.2,0.2,0.9],\n",
    "        [0.4,0.5,1.0,0.3,0.3,1.0],\n",
    "        [0.5,0.6,1.0,0.4,0.4,1.0],\n",
    "        [0.6,0.8,1.0,0.5,0.5,1.0]]"
   ]
  },
  {
   "cell_type": "code",
   "execution_count": 2,
   "id": "f24327bf",
   "metadata": {
    "scrolled": true
   },
   "outputs": [],
   "source": [
    "%load_ext autoreload\n",
    "%autoreload 2"
   ]
  },
  {
   "cell_type": "code",
   "execution_count": 3,
   "id": "efad1cc3",
   "metadata": {},
   "outputs": [],
   "source": [
    "from yens import yens"
   ]
  },
  {
   "cell_type": "code",
   "execution_count": 10,
   "id": "a0350001",
   "metadata": {},
   "outputs": [
    {
     "name": "stdout",
     "output_type": "stream",
     "text": [
      "[0, 0, 0, 0, 0, 0] 2.3000002\n",
      "[0, 0, 0, 1, 0, 0] 2.3000002\n",
      "[0, 0, 0, 0, 0, 1] 2.4\n",
      "[0, 0, 0, 1, 0, 1] 2.4\n",
      "[1, 0, 0, 1, 0, 0] 2.4\n",
      "[0, 1, 0, 1, 0, 0] 2.4\n",
      "[0, 0, 0, 0, 1, 0] 2.4\n",
      "[1, 0, 0, 0, 0, 0] 2.4\n",
      "[0, 0, 2, 1, 0, 0] 2.4\n",
      "[0, 0, 0, 2, 0, 0] 2.4\n",
      "[0, 0, 4, 1, 0, 0] 2.4\n",
      "[0, 0, 2, 0, 0, 0] 2.4\n",
      "[0, 0, 0, 1, 1, 0] 2.4\n",
      "[0, 0, 1, 1, 0, 0] 2.4\n",
      "[0, 0, 4, 0, 0, 0] 2.4\n",
      "[0, 0, 1, 0, 0, 0] 2.4\n",
      "[0, 1, 0, 0, 0, 0] 2.4\n",
      "[0, 0, 3, 0, 0, 0] 2.4\n",
      "[0, 0, 3, 1, 0, 0] 2.4\n",
      "[0, 0, 3, 0, 0, 1] 2.5\n",
      "[0, 0, 3, 1, 0, 1] 2.5\n",
      "[0, 1, 0, 0, 0, 1] 2.5\n",
      "[0, 0, 0, 2, 0, 1] 2.5\n",
      "[0, 0, 0, 0, 0, 2] 2.5\n",
      "[2, 0, 0, 0, 0, 0] 2.5\n",
      "[0, 0, 0, 0, 0, 3] 2.5\n",
      "[0, 1, 0, 1, 1, 0] 2.5\n",
      "[0, 0, 0, 0, 0, 4] 2.5\n",
      "[0, 0, 1, 1, 1, 0] 2.5\n",
      "[0, 0, 0, 0, 2, 0] 2.5\n",
      "[0, 0, 4, 2, 0, 0] 2.5\n",
      "[0, 0, 4, 0, 1, 0] 2.5\n",
      "[1, 1, 0, 1, 0, 0] 2.5\n",
      "[1, 0, 0, 2, 0, 0] 2.5\n",
      "[0, 0, 1, 2, 0, 0] 2.5\n",
      "[0, 0, 1, 0, 1, 0] 2.5\n",
      "[1, 0, 0, 0, 1, 0] 2.5\n",
      "[0, 1, 0, 2, 0, 0] 2.5\n",
      "[0, 1, 0, 0, 1, 0] 2.5\n",
      "[0, 0, 1, 1, 0, 1] 2.5\n"
     ]
    }
   ],
   "source": [
    "import numpy as np\n",
    "\n",
    "test_inputs = np.random.uniform(size=(25, 25)).tolist()\n",
    "\n",
    "for path, cost in iter(yens(test_inputs, k=40)):\n",
    "    print(path, cost)"
   ]
  }
 ],
 "metadata": {
  "kernelspec": {
   "display_name": "Python 3",
   "language": "python",
   "name": "python3"
  },
  "language_info": {
   "codemirror_mode": {
    "name": "ipython",
    "version": 3
   },
   "file_extension": ".py",
   "mimetype": "text/x-python",
   "name": "python",
   "nbconvert_exporter": "python",
   "pygments_lexer": "ipython3",
   "version": "3.7.11"
  }
 },
 "nbformat": 4,
 "nbformat_minor": 5
}
