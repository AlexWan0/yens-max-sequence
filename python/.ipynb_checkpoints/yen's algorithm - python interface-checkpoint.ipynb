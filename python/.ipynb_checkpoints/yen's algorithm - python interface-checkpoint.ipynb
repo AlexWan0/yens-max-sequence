{
 "cells": [
  {
   "cell_type": "code",
   "execution_count": 2,
   "id": "f24327bf",
   "metadata": {
    "scrolled": false
   },
   "outputs": [],
   "source": [
    "%load_ext autoreload\n",
    "%autoreload 2"
   ]
  },
  {
   "cell_type": "code",
   "execution_count": 1,
   "id": "678052f2",
   "metadata": {},
   "outputs": [],
   "source": [
    "TEST = [[0.2,0.1,0.9,0.2,0.1,0.8],\n",
    "        [0.3,0.2,1.0,0.2,0.2,0.9],\n",
    "        [0.4,0.5,1.0,0.3,0.3,1.0],\n",
    "        [0.5,0.6,1.0,0.4,0.4,1.0],\n",
    "        [0.6,0.8,1.0,0.5,0.5,1.0]]"
   ]
  },
  {
   "cell_type": "code",
   "execution_count": 2,
   "id": "efad1cc3",
   "metadata": {},
   "outputs": [],
   "source": [
    "from yens import yens"
   ]
  },
  {
   "cell_type": "code",
   "execution_count": 3,
   "id": "a0350001",
   "metadata": {
    "scrolled": true
   },
   "outputs": [],
   "source": [
    "import numpy as np\n",
    "from yens import yens\n",
    "\n",
    "def top_k_variable_length(costs, eos_idx):\n",
    "    result = []\n",
    "\n",
    "    length = len(costs[0])\n",
    "\n",
    "    for l in range(length):\n",
    "        eos_cost = costs[eos_idx][l]\n",
    "\n",
    "        for path, cost in iter(yens(costs[:,:l].tolist(), binary_path='../target/release/yens', k=3)):\n",
    "            result.append((path, cost + eos_cost))\n",
    "\n",
    "    print(sorted(result, key=lambda x:x[1]))"
   ]
  },
  {
   "cell_type": "code",
   "execution_count": 4,
   "id": "18ee0d49",
   "metadata": {},
   "outputs": [
    {
     "name": "stdout",
     "output_type": "stream",
     "text": [
      "[([0], 0.30000000000000004), ([1], 0.4), ([2], 0.5), ([0, 0], 1.2), ([1, 0], 1.3), ([0, 1], 1.3), ([0, 0, 0], 1.4), ([1, 0, 0], 1.5), ([0, 0, 3], 1.5), ([0, 0, 0, 0], 1.5000001), ([0, 0, 0, 1], 1.5000001), ([0, 1, 0, 0], 1.6), ([0, 0, 0, 1, 0], 2.3000001), ([0, 0, 0, 0, 0], 2.3000001), ([1, 0, 0, 0, 0], 2.4000000000000004)]\n"
     ]
    }
   ],
   "source": [
    "top_k_variable_length(np.array(TEST), 0)"
   ]
  }
 ],
 "metadata": {
  "kernelspec": {
   "display_name": "Python 3",
   "language": "python",
   "name": "python3"
  },
  "language_info": {
   "codemirror_mode": {
    "name": "ipython",
    "version": 3
   },
   "file_extension": ".py",
   "mimetype": "text/x-python",
   "name": "python",
   "nbconvert_exporter": "python",
   "pygments_lexer": "ipython3",
   "version": "3.7.11"
  }
 },
 "nbformat": 4,
 "nbformat_minor": 5
}
